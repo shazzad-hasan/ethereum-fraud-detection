{
  "cells": [
    {
      "cell_type": "markdown",
      "metadata": {
        "id": "view-in-github",
        "colab_type": "text"
      },
      "source": [
        "<a href=\"https://colab.research.google.com/github/shazzad-hasan/ethereum-fraud-detection/blob/main/models/neural_network.ipynb\" target=\"_parent\"><img src=\"https://colab.research.google.com/assets/colab-badge.svg\" alt=\"Open In Colab\"/></a>"
      ]
    },
    {
      "cell_type": "code",
      "execution_count": 1,
      "metadata": {
        "colab": {
          "base_uri": "https://localhost:8080/"
        },
        "id": "wMaciScFmPQe",
        "outputId": "b6efe83b-9124-4f24-a418-7c428ad03551"
      },
      "outputs": [
        {
          "output_type": "stream",
          "name": "stdout",
          "text": [
            "Mounted at /content/drive\n"
          ]
        }
      ],
      "source": [
        "from google.colab import drive\n",
        "drive.mount('/content/drive')"
      ]
    },
    {
      "cell_type": "code",
      "execution_count": 2,
      "metadata": {
        "id": "2_ansJfRmb8R"
      },
      "outputs": [],
      "source": [
        "import numpy as np\n",
        "import pandas as pd\n",
        "import matplotlib.pyplot as plt\n",
        "import seaborn as sns\n",
        "import tensorflow as tf\n",
        "from tensorflow.keras import layers, models, regularizers\n",
        "from sklearn.model_selection import train_test_split, GridSearchCV, KFold\n",
        "from sklearn.metrics import confusion_matrix, roc_auc_score, roc_curve, auc, f1_score, recall_score, accuracy_score, precision_score, classification_report, confusion_matrix, ConfusionMatrixDisplay\n",
        "from sklearn.base import TransformerMixin, BaseEstimator\n",
        "from typing import Union, Optional\n",
        "from sklearn.preprocessing import StandardScaler\n",
        "import pickle\n",
        "import warnings\n",
        "warnings.filterwarnings('ignore')"
      ]
    },
    {
      "cell_type": "code",
      "execution_count": 3,
      "metadata": {
        "id": "NXp3OFtpm8iP"
      },
      "outputs": [],
      "source": [
        "df = pd.read_csv('/content/drive/MyDrive/ethereum-fraud-detection/data/combined_kaggle_etherscan_ts_data.csv').drop(columns=['Unnamed: 0'])\n",
        "\n",
        "feature_list = list(set(df.columns) - set(['Address', 'FLAG']))\n",
        "df_train, df_test = train_test_split(df, test_size=0.2, random_state=0, stratify=df['FLAG'])"
      ]
    },
    {
      "cell_type": "code",
      "execution_count": 4,
      "metadata": {
        "colab": {
          "base_uri": "https://localhost:8080/"
        },
        "id": "6hJ8xgJvnDoz",
        "outputId": "c09a990d-7200-4587-e9c3-519252631c6d"
      },
      "outputs": [
        {
          "output_type": "stream",
          "name": "stdout",
          "text": [
            "Number of training samples:  11136\n",
            "Number of Test samples:  2784\n"
          ]
        }
      ],
      "source": [
        "print(\"Number of training samples: \", df_train.shape[0])\n",
        "print(\"Number of Test samples: \", df_test.shape[0])"
      ]
    },
    {
      "cell_type": "code",
      "execution_count": 5,
      "metadata": {
        "id": "7kKqLaR4nHUa"
      },
      "outputs": [],
      "source": [
        "%run \"/content/drive/MyDrive/ethereum-fraud-detection/models/helper_data_preprocessing.py\""
      ]
    },
    {
      "cell_type": "code",
      "execution_count": 6,
      "metadata": {
        "id": "toNvJmmsnJgO"
      },
      "outputs": [],
      "source": [
        "dp = DataPrep(\n",
        "    features=feature_list,\n",
        "    fill_strategy='median',\n",
        "    upper_clip_quantile=0.95,\n",
        "    lower_clip_quantile=0.05\n",
        ")"
      ]
    },
    {
      "cell_type": "code",
      "execution_count": 7,
      "metadata": {
        "id": "yXm7luVcnMKM"
      },
      "outputs": [],
      "source": [
        "df_train_prep = dp.fit_transform(df_train)\n",
        "df_test_prep = dp.transform(df_test)"
      ]
    },
    {
      "cell_type": "code",
      "execution_count": 8,
      "metadata": {
        "id": "RyOH6rs4nPBY"
      },
      "outputs": [],
      "source": [
        "scaler = StandardScaler()\n",
        "df_train_prep = scaler.fit_transform(df_train_prep[feature_list])\n",
        "df_test_prep = scaler.transform(df_test_prep[feature_list])"
      ]
    },
    {
      "cell_type": "code",
      "execution_count": 9,
      "metadata": {
        "id": "gFoEjYWknRv8"
      },
      "outputs": [],
      "source": [
        "from sklearn.base import BaseEstimator, ClassifierMixin\n",
        "from tensorflow.keras import layers, models, regularizers\n",
        "from sklearn.metrics import f1_score, make_scorer # Import make_scorer\n",
        "\n",
        "\n",
        "class KerasBaseModel(BaseEstimator, ClassifierMixin):\n",
        "    def __init__(self, optimizer='adam', dropout_rate=0.0, l2_reg=0.0, epochs=50, batch_size=32):\n",
        "        self.optimizer = optimizer\n",
        "        self.dropout_rate = dropout_rate\n",
        "        self.l2_reg = l2_reg\n",
        "        self.epochs = epochs\n",
        "        self.batch_size = batch_size\n",
        "        self.model = None\n",
        "\n",
        "    def build_model(self): # Removed the extra indent here\n",
        "        model = models.Sequential()\n",
        "        model.add(layers.Dense(64, activation='relu', input_shape=(df_train_prep.shape[1],),\n",
        "                               kernel_regularizer=regularizers.l2(self.l2_reg)))\n",
        "        model.add(layers.Dense(64, activation='relu', kernel_regularizer=regularizers.l2(self.l2_reg)))\n",
        "        model.add(layers.Dropout(self.dropout_rate))\n",
        "        model.add(layers.Dense(32, activation='relu', kernel_regularizer=regularizers.l2(self.l2_reg)))\n",
        "        model.add(layers.Dropout(self.dropout_rate))\n",
        "        model.add(layers.Dense(1, activation='sigmoid'))\n",
        "\n",
        "        model.compile(optimizer=self.optimizer, loss='binary_crossentropy', metrics=['accuracy'])\n",
        "        return model\n",
        "\n",
        "    def fit(self, X, y): # Corrected the typo here: 'deffit' -> 'fit'\n",
        "        self.model = self.build_model()\n",
        "        self.model.fit(X, y, epochs=self.epochs, batch_size=self.batch_size, verbose=0)\n",
        "        return self\n",
        "\n",
        "    def predict(self, X): # Corrected the typo here: 'defpredict' -> 'predict'\n",
        "        return (self.model.predict(X) > 0.5).astype(\"int32\")\n",
        "\n",
        "    def score(self, X, y):\n",
        "        y_pred = self.predict(X) # Calculate predictions explicitly\n",
        "        return f1_score(y, y_pred)  # Use f1_score directly for scoring"
      ]
    },
    {
      "cell_type": "code",
      "execution_count": 10,
      "metadata": {
        "colab": {
          "base_uri": "https://localhost:8080/"
        },
        "id": "OvCYvuqoFlsM",
        "outputId": "3831395b-fa4c-4cb2-ff59-f05309e0d864"
      },
      "outputs": [
        {
          "output_type": "stream",
          "name": "stdout",
          "text": [
            "Fitting 5 folds for each of 32 candidates, totalling 160 fits\n",
            "[CV] END batch_size=32, dropout_rate=0.3, epochs=50, l2_reg=0.001, optimizer=adam; total time=  52.8s\n",
            "[CV] END batch_size=32, dropout_rate=0.3, epochs=50, l2_reg=0.001, optimizer=adam; total time=  34.4s\n",
            "[CV] END batch_size=32, dropout_rate=0.3, epochs=50, l2_reg=0.001, optimizer=adam; total time=  36.6s\n",
            "[CV] END batch_size=32, dropout_rate=0.3, epochs=50, l2_reg=0.001, optimizer=adam; total time=  34.4s\n",
            "[CV] END batch_size=32, dropout_rate=0.3, epochs=50, l2_reg=0.001, optimizer=adam; total time=  38.0s\n",
            "[CV] END batch_size=32, dropout_rate=0.3, epochs=50, l2_reg=0.001, optimizer=rmsprop; total time=  32.9s\n",
            "[CV] END batch_size=32, dropout_rate=0.3, epochs=50, l2_reg=0.001, optimizer=rmsprop; total time=  34.2s\n",
            "[CV] END batch_size=32, dropout_rate=0.3, epochs=50, l2_reg=0.001, optimizer=rmsprop; total time=  34.3s\n",
            "[CV] END batch_size=32, dropout_rate=0.3, epochs=50, l2_reg=0.001, optimizer=rmsprop; total time=  32.8s\n",
            "[CV] END batch_size=32, dropout_rate=0.3, epochs=50, l2_reg=0.001, optimizer=rmsprop; total time=  35.0s\n",
            "[CV] END batch_size=32, dropout_rate=0.3, epochs=50, l2_reg=0.01, optimizer=adam; total time=  35.8s\n",
            "[CV] END batch_size=32, dropout_rate=0.3, epochs=50, l2_reg=0.01, optimizer=adam; total time=  32.7s\n",
            "[CV] END batch_size=32, dropout_rate=0.3, epochs=50, l2_reg=0.01, optimizer=adam; total time=  36.4s\n",
            "[CV] END batch_size=32, dropout_rate=0.3, epochs=50, l2_reg=0.01, optimizer=adam; total time=  37.4s\n",
            "[CV] END batch_size=32, dropout_rate=0.3, epochs=50, l2_reg=0.01, optimizer=adam; total time=  36.7s\n",
            "[CV] END batch_size=32, dropout_rate=0.3, epochs=50, l2_reg=0.01, optimizer=rmsprop; total time=  31.9s\n",
            "[CV] END batch_size=32, dropout_rate=0.3, epochs=50, l2_reg=0.01, optimizer=rmsprop; total time=  35.4s\n",
            "[CV] END batch_size=32, dropout_rate=0.3, epochs=50, l2_reg=0.01, optimizer=rmsprop; total time=  34.8s\n",
            "[CV] END batch_size=32, dropout_rate=0.3, epochs=50, l2_reg=0.01, optimizer=rmsprop; total time=  35.1s\n",
            "[CV] END batch_size=32, dropout_rate=0.3, epochs=50, l2_reg=0.01, optimizer=rmsprop; total time=  32.5s\n",
            "[CV] END batch_size=32, dropout_rate=0.3, epochs=100, l2_reg=0.001, optimizer=adam; total time= 1.1min\n",
            "[CV] END batch_size=32, dropout_rate=0.3, epochs=100, l2_reg=0.001, optimizer=adam; total time= 1.2min\n",
            "[CV] END batch_size=32, dropout_rate=0.3, epochs=100, l2_reg=0.001, optimizer=adam; total time= 1.1min\n",
            "[CV] END batch_size=32, dropout_rate=0.3, epochs=100, l2_reg=0.001, optimizer=adam; total time= 1.2min\n",
            "[CV] END batch_size=32, dropout_rate=0.3, epochs=100, l2_reg=0.001, optimizer=adam; total time= 1.2min\n",
            "[CV] END batch_size=32, dropout_rate=0.3, epochs=100, l2_reg=0.001, optimizer=rmsprop; total time= 1.2min\n",
            "[CV] END batch_size=32, dropout_rate=0.3, epochs=100, l2_reg=0.001, optimizer=rmsprop; total time= 1.1min\n",
            "[CV] END batch_size=32, dropout_rate=0.3, epochs=100, l2_reg=0.001, optimizer=rmsprop; total time= 1.1min\n",
            "[CV] END batch_size=32, dropout_rate=0.3, epochs=100, l2_reg=0.001, optimizer=rmsprop; total time= 1.1min\n",
            "[CV] END batch_size=32, dropout_rate=0.3, epochs=100, l2_reg=0.001, optimizer=rmsprop; total time= 1.0min\n",
            "[CV] END batch_size=32, dropout_rate=0.3, epochs=100, l2_reg=0.01, optimizer=adam; total time= 1.2min\n",
            "[CV] END batch_size=32, dropout_rate=0.3, epochs=100, l2_reg=0.01, optimizer=adam; total time= 1.2min\n",
            "[CV] END batch_size=32, dropout_rate=0.3, epochs=100, l2_reg=0.01, optimizer=adam; total time= 1.2min\n",
            "[CV] END batch_size=32, dropout_rate=0.3, epochs=100, l2_reg=0.01, optimizer=adam; total time= 1.1min\n",
            "[CV] END batch_size=32, dropout_rate=0.3, epochs=100, l2_reg=0.01, optimizer=adam; total time= 1.2min\n",
            "[CV] END batch_size=32, dropout_rate=0.3, epochs=100, l2_reg=0.01, optimizer=rmsprop; total time= 1.1min\n",
            "[CV] END batch_size=32, dropout_rate=0.3, epochs=100, l2_reg=0.01, optimizer=rmsprop; total time= 1.1min\n",
            "[CV] END batch_size=32, dropout_rate=0.3, epochs=100, l2_reg=0.01, optimizer=rmsprop; total time= 1.1min\n",
            "[CV] END batch_size=32, dropout_rate=0.3, epochs=100, l2_reg=0.01, optimizer=rmsprop; total time= 1.1min\n",
            "[CV] END batch_size=32, dropout_rate=0.3, epochs=100, l2_reg=0.01, optimizer=rmsprop; total time= 1.1min\n",
            "[CV] END batch_size=32, dropout_rate=0.5, epochs=50, l2_reg=0.001, optimizer=adam; total time=  37.3s\n",
            "[CV] END batch_size=32, dropout_rate=0.5, epochs=50, l2_reg=0.001, optimizer=adam; total time=  36.3s\n",
            "[CV] END batch_size=32, dropout_rate=0.5, epochs=50, l2_reg=0.001, optimizer=adam; total time=  33.0s\n",
            "[CV] END batch_size=32, dropout_rate=0.5, epochs=50, l2_reg=0.001, optimizer=adam; total time=  38.4s\n",
            "[CV] END batch_size=32, dropout_rate=0.5, epochs=50, l2_reg=0.001, optimizer=adam; total time=  33.5s\n",
            "[CV] END batch_size=32, dropout_rate=0.5, epochs=50, l2_reg=0.001, optimizer=rmsprop; total time=  34.8s\n",
            "[CV] END batch_size=32, dropout_rate=0.5, epochs=50, l2_reg=0.001, optimizer=rmsprop; total time=  33.2s\n",
            "[CV] END batch_size=32, dropout_rate=0.5, epochs=50, l2_reg=0.001, optimizer=rmsprop; total time=  35.8s\n",
            "[CV] END batch_size=32, dropout_rate=0.5, epochs=50, l2_reg=0.001, optimizer=rmsprop; total time=  33.2s\n",
            "[CV] END batch_size=32, dropout_rate=0.5, epochs=50, l2_reg=0.001, optimizer=rmsprop; total time=  34.8s\n",
            "[CV] END batch_size=32, dropout_rate=0.5, epochs=50, l2_reg=0.01, optimizer=adam; total time=  36.3s\n",
            "[CV] END batch_size=32, dropout_rate=0.5, epochs=50, l2_reg=0.01, optimizer=adam; total time=  34.8s\n",
            "[CV] END batch_size=32, dropout_rate=0.5, epochs=50, l2_reg=0.01, optimizer=adam; total time=  36.7s\n",
            "[CV] END batch_size=32, dropout_rate=0.5, epochs=50, l2_reg=0.01, optimizer=adam; total time=  33.0s\n",
            "[CV] END batch_size=32, dropout_rate=0.5, epochs=50, l2_reg=0.01, optimizer=adam; total time=  36.0s\n",
            "[CV] END batch_size=32, dropout_rate=0.5, epochs=50, l2_reg=0.01, optimizer=rmsprop; total time=  32.5s\n",
            "[CV] END batch_size=32, dropout_rate=0.5, epochs=50, l2_reg=0.01, optimizer=rmsprop; total time=  37.9s\n",
            "[CV] END batch_size=32, dropout_rate=0.5, epochs=50, l2_reg=0.01, optimizer=rmsprop; total time=  35.2s\n",
            "[CV] END batch_size=32, dropout_rate=0.5, epochs=50, l2_reg=0.01, optimizer=rmsprop; total time=  33.4s\n",
            "[CV] END batch_size=32, dropout_rate=0.5, epochs=50, l2_reg=0.01, optimizer=rmsprop; total time=  35.8s\n",
            "[CV] END batch_size=32, dropout_rate=0.5, epochs=100, l2_reg=0.001, optimizer=adam; total time= 1.2min\n",
            "[CV] END batch_size=32, dropout_rate=0.5, epochs=100, l2_reg=0.001, optimizer=adam; total time= 1.1min\n",
            "[CV] END batch_size=32, dropout_rate=0.5, epochs=100, l2_reg=0.001, optimizer=adam; total time= 1.2min\n",
            "[CV] END batch_size=32, dropout_rate=0.5, epochs=100, l2_reg=0.001, optimizer=adam; total time= 1.1min\n",
            "[CV] END batch_size=32, dropout_rate=0.5, epochs=100, l2_reg=0.001, optimizer=adam; total time= 1.2min\n",
            "[CV] END batch_size=32, dropout_rate=0.5, epochs=100, l2_reg=0.001, optimizer=rmsprop; total time= 1.2min\n",
            "[CV] END batch_size=32, dropout_rate=0.5, epochs=100, l2_reg=0.001, optimizer=rmsprop; total time= 1.2min\n",
            "[CV] END batch_size=32, dropout_rate=0.5, epochs=100, l2_reg=0.001, optimizer=rmsprop; total time= 1.2min\n",
            "[CV] END batch_size=32, dropout_rate=0.5, epochs=100, l2_reg=0.001, optimizer=rmsprop; total time= 1.1min\n",
            "[CV] END batch_size=32, dropout_rate=0.5, epochs=100, l2_reg=0.001, optimizer=rmsprop; total time= 1.1min\n",
            "[CV] END batch_size=32, dropout_rate=0.5, epochs=100, l2_reg=0.01, optimizer=adam; total time= 1.2min\n",
            "[CV] END batch_size=32, dropout_rate=0.5, epochs=100, l2_reg=0.01, optimizer=adam; total time= 1.1min\n",
            "[CV] END batch_size=32, dropout_rate=0.5, epochs=100, l2_reg=0.01, optimizer=adam; total time= 1.1min\n",
            "[CV] END batch_size=32, dropout_rate=0.5, epochs=100, l2_reg=0.01, optimizer=adam; total time= 1.1min\n",
            "[CV] END batch_size=32, dropout_rate=0.5, epochs=100, l2_reg=0.01, optimizer=adam; total time= 1.1min\n",
            "[CV] END batch_size=32, dropout_rate=0.5, epochs=100, l2_reg=0.01, optimizer=rmsprop; total time= 1.1min\n",
            "[CV] END batch_size=32, dropout_rate=0.5, epochs=100, l2_reg=0.01, optimizer=rmsprop; total time= 1.1min\n",
            "[CV] END batch_size=32, dropout_rate=0.5, epochs=100, l2_reg=0.01, optimizer=rmsprop; total time= 1.1min\n",
            "[CV] END batch_size=32, dropout_rate=0.5, epochs=100, l2_reg=0.01, optimizer=rmsprop; total time= 1.1min\n",
            "[CV] END batch_size=32, dropout_rate=0.5, epochs=100, l2_reg=0.01, optimizer=rmsprop; total time= 1.1min\n",
            "[CV] END batch_size=64, dropout_rate=0.3, epochs=50, l2_reg=0.001, optimizer=adam; total time=  20.4s\n",
            "[CV] END batch_size=64, dropout_rate=0.3, epochs=50, l2_reg=0.001, optimizer=adam; total time=  18.4s\n",
            "[CV] END batch_size=64, dropout_rate=0.3, epochs=50, l2_reg=0.001, optimizer=adam; total time=  17.9s\n",
            "[CV] END batch_size=64, dropout_rate=0.3, epochs=50, l2_reg=0.001, optimizer=adam; total time=  19.9s\n",
            "[CV] END batch_size=64, dropout_rate=0.3, epochs=50, l2_reg=0.001, optimizer=adam; total time=  26.3s\n",
            "[CV] END batch_size=64, dropout_rate=0.3, epochs=50, l2_reg=0.001, optimizer=rmsprop; total time=  20.4s\n",
            "[CV] END batch_size=64, dropout_rate=0.3, epochs=50, l2_reg=0.001, optimizer=rmsprop; total time=  17.8s\n",
            "[CV] END batch_size=64, dropout_rate=0.3, epochs=50, l2_reg=0.001, optimizer=rmsprop; total time=  20.0s\n",
            "[CV] END batch_size=64, dropout_rate=0.3, epochs=50, l2_reg=0.001, optimizer=rmsprop; total time=  17.7s\n",
            "[CV] END batch_size=64, dropout_rate=0.3, epochs=50, l2_reg=0.001, optimizer=rmsprop; total time=  17.4s\n",
            "[CV] END batch_size=64, dropout_rate=0.3, epochs=50, l2_reg=0.01, optimizer=adam; total time=  19.7s\n",
            "[CV] END batch_size=64, dropout_rate=0.3, epochs=50, l2_reg=0.01, optimizer=adam; total time=  18.3s\n",
            "[CV] END batch_size=64, dropout_rate=0.3, epochs=50, l2_reg=0.01, optimizer=adam; total time=  18.8s\n",
            "[CV] END batch_size=64, dropout_rate=0.3, epochs=50, l2_reg=0.01, optimizer=adam; total time=  21.5s\n",
            "[CV] END batch_size=64, dropout_rate=0.3, epochs=50, l2_reg=0.01, optimizer=adam; total time=  18.1s\n",
            "[CV] END batch_size=64, dropout_rate=0.3, epochs=50, l2_reg=0.01, optimizer=rmsprop; total time=  18.2s\n",
            "[CV] END batch_size=64, dropout_rate=0.3, epochs=50, l2_reg=0.01, optimizer=rmsprop; total time=  17.3s\n",
            "[CV] END batch_size=64, dropout_rate=0.3, epochs=50, l2_reg=0.01, optimizer=rmsprop; total time=  17.1s\n",
            "[CV] END batch_size=64, dropout_rate=0.3, epochs=50, l2_reg=0.01, optimizer=rmsprop; total time=  19.3s\n",
            "[CV] END batch_size=64, dropout_rate=0.3, epochs=50, l2_reg=0.01, optimizer=rmsprop; total time=  17.0s\n",
            "[CV] END batch_size=64, dropout_rate=0.3, epochs=100, l2_reg=0.001, optimizer=adam; total time=  34.7s\n",
            "[CV] END batch_size=64, dropout_rate=0.3, epochs=100, l2_reg=0.001, optimizer=adam; total time=  37.6s\n",
            "[CV] END batch_size=64, dropout_rate=0.3, epochs=100, l2_reg=0.001, optimizer=adam; total time=  36.2s\n",
            "[CV] END batch_size=64, dropout_rate=0.3, epochs=100, l2_reg=0.001, optimizer=adam; total time=  34.2s\n",
            "[CV] END batch_size=64, dropout_rate=0.3, epochs=100, l2_reg=0.001, optimizer=adam; total time=  36.8s\n",
            "[CV] END batch_size=64, dropout_rate=0.3, epochs=100, l2_reg=0.001, optimizer=rmsprop; total time=  35.6s\n",
            "[CV] END batch_size=64, dropout_rate=0.3, epochs=100, l2_reg=0.001, optimizer=rmsprop; total time=  39.5s\n",
            "[CV] END batch_size=64, dropout_rate=0.3, epochs=100, l2_reg=0.001, optimizer=rmsprop; total time=  38.6s\n",
            "[CV] END batch_size=64, dropout_rate=0.3, epochs=100, l2_reg=0.001, optimizer=rmsprop; total time=  36.6s\n",
            "[CV] END batch_size=64, dropout_rate=0.3, epochs=100, l2_reg=0.001, optimizer=rmsprop; total time=  38.4s\n",
            "[CV] END batch_size=64, dropout_rate=0.3, epochs=100, l2_reg=0.01, optimizer=adam; total time=  35.5s\n",
            "[CV] END batch_size=64, dropout_rate=0.3, epochs=100, l2_reg=0.01, optimizer=adam; total time=  37.4s\n",
            "[CV] END batch_size=64, dropout_rate=0.3, epochs=100, l2_reg=0.01, optimizer=adam; total time=  36.6s\n",
            "[CV] END batch_size=64, dropout_rate=0.3, epochs=100, l2_reg=0.01, optimizer=adam; total time=  34.5s\n",
            "[CV] END batch_size=64, dropout_rate=0.3, epochs=100, l2_reg=0.01, optimizer=adam; total time=  37.7s\n",
            "[CV] END batch_size=64, dropout_rate=0.3, epochs=100, l2_reg=0.01, optimizer=rmsprop; total time=  32.6s\n",
            "[CV] END batch_size=64, dropout_rate=0.3, epochs=100, l2_reg=0.01, optimizer=rmsprop; total time=  34.9s\n",
            "[CV] END batch_size=64, dropout_rate=0.3, epochs=100, l2_reg=0.01, optimizer=rmsprop; total time=  32.4s\n",
            "[CV] END batch_size=64, dropout_rate=0.3, epochs=100, l2_reg=0.01, optimizer=rmsprop; total time=  36.7s\n",
            "[CV] END batch_size=64, dropout_rate=0.3, epochs=100, l2_reg=0.01, optimizer=rmsprop; total time=  33.3s\n",
            "[CV] END batch_size=64, dropout_rate=0.5, epochs=50, l2_reg=0.001, optimizer=adam; total time=  20.5s\n",
            "[CV] END batch_size=64, dropout_rate=0.5, epochs=50, l2_reg=0.001, optimizer=adam; total time=  19.0s\n",
            "[CV] END batch_size=64, dropout_rate=0.5, epochs=50, l2_reg=0.001, optimizer=adam; total time=  20.2s\n",
            "[CV] END batch_size=64, dropout_rate=0.5, epochs=50, l2_reg=0.001, optimizer=adam; total time=  18.3s\n",
            "[CV] END batch_size=64, dropout_rate=0.5, epochs=50, l2_reg=0.001, optimizer=adam; total time=  18.1s\n",
            "[CV] END batch_size=64, dropout_rate=0.5, epochs=50, l2_reg=0.001, optimizer=rmsprop; total time=  19.8s\n",
            "[CV] END batch_size=64, dropout_rate=0.5, epochs=50, l2_reg=0.001, optimizer=rmsprop; total time=  17.9s\n",
            "[CV] END batch_size=64, dropout_rate=0.5, epochs=50, l2_reg=0.001, optimizer=rmsprop; total time=  16.9s\n",
            "[CV] END batch_size=64, dropout_rate=0.5, epochs=50, l2_reg=0.001, optimizer=rmsprop; total time=  18.9s\n",
            "[CV] END batch_size=64, dropout_rate=0.5, epochs=50, l2_reg=0.001, optimizer=rmsprop; total time=  17.3s\n",
            "[CV] END batch_size=64, dropout_rate=0.5, epochs=50, l2_reg=0.01, optimizer=adam; total time=  18.3s\n",
            "[CV] END batch_size=64, dropout_rate=0.5, epochs=50, l2_reg=0.01, optimizer=adam; total time=  20.4s\n",
            "[CV] END batch_size=64, dropout_rate=0.5, epochs=50, l2_reg=0.01, optimizer=adam; total time=  18.1s\n",
            "[CV] END batch_size=64, dropout_rate=0.5, epochs=50, l2_reg=0.01, optimizer=adam; total time=  27.5s\n",
            "[CV] END batch_size=64, dropout_rate=0.5, epochs=50, l2_reg=0.01, optimizer=adam; total time=  26.7s\n",
            "[CV] END batch_size=64, dropout_rate=0.5, epochs=50, l2_reg=0.01, optimizer=rmsprop; total time=  18.8s\n",
            "[CV] END batch_size=64, dropout_rate=0.5, epochs=50, l2_reg=0.01, optimizer=rmsprop; total time=  19.1s\n",
            "[CV] END batch_size=64, dropout_rate=0.5, epochs=50, l2_reg=0.01, optimizer=rmsprop; total time=  18.6s\n",
            "[CV] END batch_size=64, dropout_rate=0.5, epochs=50, l2_reg=0.01, optimizer=rmsprop; total time=  19.8s\n",
            "[CV] END batch_size=64, dropout_rate=0.5, epochs=50, l2_reg=0.01, optimizer=rmsprop; total time=  17.5s\n",
            "[CV] END batch_size=64, dropout_rate=0.5, epochs=100, l2_reg=0.001, optimizer=adam; total time=  36.4s\n",
            "[CV] END batch_size=64, dropout_rate=0.5, epochs=100, l2_reg=0.001, optimizer=adam; total time=  36.1s\n",
            "[CV] END batch_size=64, dropout_rate=0.5, epochs=100, l2_reg=0.001, optimizer=adam; total time=  36.5s\n",
            "[CV] END batch_size=64, dropout_rate=0.5, epochs=100, l2_reg=0.001, optimizer=adam; total time=  36.0s\n",
            "[CV] END batch_size=64, dropout_rate=0.5, epochs=100, l2_reg=0.001, optimizer=adam; total time=  34.7s\n",
            "[CV] END batch_size=64, dropout_rate=0.5, epochs=100, l2_reg=0.001, optimizer=rmsprop; total time=  36.7s\n",
            "[CV] END batch_size=64, dropout_rate=0.5, epochs=100, l2_reg=0.001, optimizer=rmsprop; total time=  32.8s\n",
            "[CV] END batch_size=64, dropout_rate=0.5, epochs=100, l2_reg=0.001, optimizer=rmsprop; total time=  34.9s\n",
            "[CV] END batch_size=64, dropout_rate=0.5, epochs=100, l2_reg=0.001, optimizer=rmsprop; total time=  33.5s\n",
            "[CV] END batch_size=64, dropout_rate=0.5, epochs=100, l2_reg=0.001, optimizer=rmsprop; total time=  35.7s\n",
            "[CV] END batch_size=64, dropout_rate=0.5, epochs=100, l2_reg=0.01, optimizer=adam; total time=  38.5s\n",
            "[CV] END batch_size=64, dropout_rate=0.5, epochs=100, l2_reg=0.01, optimizer=adam; total time=  35.6s\n",
            "[CV] END batch_size=64, dropout_rate=0.5, epochs=100, l2_reg=0.01, optimizer=adam; total time=  37.0s\n",
            "[CV] END batch_size=64, dropout_rate=0.5, epochs=100, l2_reg=0.01, optimizer=adam; total time=  36.9s\n",
            "[CV] END batch_size=64, dropout_rate=0.5, epochs=100, l2_reg=0.01, optimizer=adam; total time=  36.7s\n",
            "[CV] END batch_size=64, dropout_rate=0.5, epochs=100, l2_reg=0.01, optimizer=rmsprop; total time=  34.4s\n",
            "[CV] END batch_size=64, dropout_rate=0.5, epochs=100, l2_reg=0.01, optimizer=rmsprop; total time=  32.8s\n",
            "[CV] END batch_size=64, dropout_rate=0.5, epochs=100, l2_reg=0.01, optimizer=rmsprop; total time=  33.8s\n",
            "[CV] END batch_size=64, dropout_rate=0.5, epochs=100, l2_reg=0.01, optimizer=rmsprop; total time=  34.0s\n",
            "[CV] END batch_size=64, dropout_rate=0.5, epochs=100, l2_reg=0.01, optimizer=rmsprop; total time=  35.2s\n"
          ]
        }
      ],
      "source": [
        "param_grid = {\n",
        "    'optimizer': ['adam', 'rmsprop'],\n",
        "    'dropout_rate': [0.3, 0.5],\n",
        "    'l2_reg': [0.001, 0.01],\n",
        "    'epochs': [50, 100],\n",
        "    'batch_size': [32, 64]\n",
        "}\n",
        "\n",
        "model = KerasBaseModel()\n",
        "grid = GridSearchCV(estimator=model, param_grid=param_grid, cv=5, scoring=\"f1\", verbose=2,)\n",
        "grid_result = grid.fit(df_train_prep, df_train['FLAG'])"
      ]
    },
    {
      "cell_type": "code",
      "execution_count": 13,
      "metadata": {
        "colab": {
          "base_uri": "https://localhost:8080/"
        },
        "id": "o0EDhrXSsPco",
        "outputId": "002722b6-3762-4470-cb3c-b03cf4e80408"
      },
      "outputs": [
        {
          "output_type": "stream",
          "name": "stdout",
          "text": [
            "Best parameters: {'batch_size': 32, 'dropout_rate': 0.3, 'epochs': 50, 'l2_reg': 0.001, 'optimizer': 'adam'}\n",
            "Best cross-validation accuracy: nan\n"
          ]
        }
      ],
      "source": [
        "print(f\"Best parameters: {grid_result.best_params_}\")\n",
        "print(f\"Best cross-validation accuracy: {grid_result.best_score_}\")\n",
        "\n",
        "model = grid_result.best_estimator_.model"
      ]
    },
    {
      "cell_type": "code",
      "execution_count": 14,
      "metadata": {
        "id": "Yq837rFfGHtZ",
        "colab": {
          "base_uri": "https://localhost:8080/"
        },
        "outputId": "dff2baa2-b011-44a9-94ca-6d935c7afde7"
      },
      "outputs": [
        {
          "output_type": "stream",
          "name": "stdout",
          "text": [
            "\u001b[1m87/87\u001b[0m \u001b[32m━━━━━━━━━━━━━━━━━━━━\u001b[0m\u001b[37m\u001b[0m \u001b[1m0s\u001b[0m 1ms/step - accuracy: 0.9078 - loss: 0.2737\n",
            "Test accuracy of the best model: 0.9116379022598267\n"
          ]
        }
      ],
      "source": [
        "best_model = grid_result.best_estimator_.model\n",
        "\n",
        "test_loss, test_acc = best_model.evaluate(df_test_prep, df_test['FLAG'])\n",
        "print(f'Test accuracy of the best model: {test_acc}')"
      ]
    },
    {
      "cell_type": "code",
      "source": [],
      "metadata": {
        "id": "yPPhG17_Ffvc"
      },
      "execution_count": null,
      "outputs": []
    },
    {
      "cell_type": "code",
      "source": [],
      "metadata": {
        "id": "5ZVARce7FoHh"
      },
      "execution_count": null,
      "outputs": []
    },
    {
      "cell_type": "code",
      "source": [],
      "metadata": {
        "id": "rHhKDIt4FoKW"
      },
      "execution_count": null,
      "outputs": []
    },
    {
      "cell_type": "code",
      "source": [],
      "metadata": {
        "id": "6NHxcJc7FoNL"
      },
      "execution_count": null,
      "outputs": []
    }
  ],
  "metadata": {
    "colab": {
      "provenance": [],
      "authorship_tag": "ABX9TyOodsB6kHurpgMDan40+Gpw",
      "include_colab_link": true
    },
    "kernelspec": {
      "display_name": "Python 3",
      "name": "python3"
    },
    "language_info": {
      "name": "python"
    }
  },
  "nbformat": 4,
  "nbformat_minor": 0
}